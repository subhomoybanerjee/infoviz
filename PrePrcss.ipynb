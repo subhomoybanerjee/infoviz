{
 "cells": [
  {
   "cell_type": "code",
   "execution_count": 4,
   "id": "initial_id",
   "metadata": {
    "collapsed": true,
    "ExecuteTime": {
     "end_time": "2024-04-19T18:43:47.379434600Z",
     "start_time": "2024-04-19T18:43:47.371507200Z"
    }
   },
   "outputs": [],
   "source": [
    "import warnings\n",
    "import pandas as pd\n",
    "warnings.filterwarnings(\"ignore\")"
   ]
  },
  {
   "cell_type": "code",
   "outputs": [
    {
     "data": {
      "text/plain": "                    name         alt_name         orig_name state    county1  \\\n0        A AND M COLLEGE              NaN   A AND M COLLEGE    MS  OKTIBBEHA   \n1               A. B. C.              NaN          A. B. C.    TN     SUMNER   \n2                  AARON              NaN             AARON    MO      BATES   \n3                  AARON              NaN             AARON    TN     BENTON   \n4                  AARON              NaN             AARON    TN    BRADLEY   \n...                  ...              ...               ...   ...        ...   \n166135              TRUE              NaN              TRUE    OK     HARMON   \n166136              TRUE              NaN              TRUE    TX      YOUNG   \n166137     SIERRA BLANCA              NaN     SIERRA BLANCA    TX   HUDSPETH   \n166138    GRAHAM'S MILLS    GRAHAMS MILLS    GRAHAM'S MILLS    TX     SHELBY   \n166139  CATLETT'S  CREEK  CATLETTS  CREEK  CATLETT'S  CREEK    TX       WISE   \n\n        county2  county3 orig_county  established  discontinued  ...  \\\n0           NaN      NaN   Oktibbeha       1922.0        1932.0  ...   \n1           NaN      NaN      Sumner       1880.0        1914.0  ...   \n2           NaN      NaN       Bates       1895.0        1933.0  ...   \n3           NaN      NaN      Benton       1889.0        1890.0  ...   \n4           NaN      NaN     Bradley       1860.0        1860.0  ...   \n...         ...      ...         ...          ...           ...  ...   \n166135      NaN      NaN      Harmon       1901.0        1905.0  ...   \n166136      NaN      NaN       Young       1894.0        1912.0  ...   \n166137      NaN      NaN    Hudspeth       1882.0           NaN  ...   \n166138      NaN      NaN      Shelby       1854.0           NaN  ...   \n166139      NaN      NaN        Wise       1858.0        1867.0  ...   \n\n        gnis_feature_id  gnis_feature_class                  gnis_orig_name  \\\n0                   NaN                 NaN                             NaN   \n1                   NaN                 NaN                             NaN   \n2             2091668.0         Post Office  Aaron Post Office (historical)   \n3                   NaN                 NaN                             NaN   \n4                   NaN                 NaN                             NaN   \n...                 ...                 ...                             ...   \n166135              NaN                 NaN                             NaN   \n166136        1380679.0     Populated Place                            True   \n166137        2732001.0         Post Office       Sierra Blanca Post Office   \n166138              NaN                 NaN                             NaN   \n166139              NaN                 NaN                             NaN   \n\n        gnis_orig_county  gnis_latitude  gnis_longitude gnis_elev_in_m  \\\n0                    NaN            NaN             NaN            NaN   \n1                    NaN            NaN             NaN            NaN   \n2                  Bates      38.422222      -94.154167          268.0   \n3                    NaN            NaN             NaN            NaN   \n4                    NaN            NaN             NaN            NaN   \n...                  ...            ...             ...            ...   \n166135               NaN            NaN             NaN            NaN   \n166136             Young      33.279830      -98.728670          359.0   \n166137          Hudspeth      31.175930     -105.360000         1380.0   \n166138               NaN            NaN             NaN            NaN   \n166139               NaN            NaN             NaN            NaN   \n\n       gnis_dist   latitude   longitude  \n0            NaN        NaN         NaN  \n1            NaN        NaN         NaN  \n2            1.0  38.422222  -94.154167  \n3            NaN        NaN         NaN  \n4            NaN        NaN         NaN  \n...          ...        ...         ...  \n166135       NaN        NaN         NaN  \n166136       1.0  33.279830  -98.728670  \n166137       1.0  31.175930 -105.360000  \n166138       NaN        NaN         NaN  \n166139       NaN        NaN         NaN  \n\n[166140 rows x 29 columns]",
      "text/html": "<div>\n<style scoped>\n    .dataframe tbody tr th:only-of-type {\n        vertical-align: middle;\n    }\n\n    .dataframe tbody tr th {\n        vertical-align: top;\n    }\n\n    .dataframe thead th {\n        text-align: right;\n    }\n</style>\n<table border=\"1\" class=\"dataframe\">\n  <thead>\n    <tr style=\"text-align: right;\">\n      <th></th>\n      <th>name</th>\n      <th>alt_name</th>\n      <th>orig_name</th>\n      <th>state</th>\n      <th>county1</th>\n      <th>county2</th>\n      <th>county3</th>\n      <th>orig_county</th>\n      <th>established</th>\n      <th>discontinued</th>\n      <th>...</th>\n      <th>gnis_feature_id</th>\n      <th>gnis_feature_class</th>\n      <th>gnis_orig_name</th>\n      <th>gnis_orig_county</th>\n      <th>gnis_latitude</th>\n      <th>gnis_longitude</th>\n      <th>gnis_elev_in_m</th>\n      <th>gnis_dist</th>\n      <th>latitude</th>\n      <th>longitude</th>\n    </tr>\n  </thead>\n  <tbody>\n    <tr>\n      <th>0</th>\n      <td>A AND M COLLEGE</td>\n      <td>NaN</td>\n      <td>A AND M COLLEGE</td>\n      <td>MS</td>\n      <td>OKTIBBEHA</td>\n      <td>NaN</td>\n      <td>NaN</td>\n      <td>Oktibbeha</td>\n      <td>1922.0</td>\n      <td>1932.0</td>\n      <td>...</td>\n      <td>NaN</td>\n      <td>NaN</td>\n      <td>NaN</td>\n      <td>NaN</td>\n      <td>NaN</td>\n      <td>NaN</td>\n      <td>NaN</td>\n      <td>NaN</td>\n      <td>NaN</td>\n      <td>NaN</td>\n    </tr>\n    <tr>\n      <th>1</th>\n      <td>A. B. C.</td>\n      <td>NaN</td>\n      <td>A. B. C.</td>\n      <td>TN</td>\n      <td>SUMNER</td>\n      <td>NaN</td>\n      <td>NaN</td>\n      <td>Sumner</td>\n      <td>1880.0</td>\n      <td>1914.0</td>\n      <td>...</td>\n      <td>NaN</td>\n      <td>NaN</td>\n      <td>NaN</td>\n      <td>NaN</td>\n      <td>NaN</td>\n      <td>NaN</td>\n      <td>NaN</td>\n      <td>NaN</td>\n      <td>NaN</td>\n      <td>NaN</td>\n    </tr>\n    <tr>\n      <th>2</th>\n      <td>AARON</td>\n      <td>NaN</td>\n      <td>AARON</td>\n      <td>MO</td>\n      <td>BATES</td>\n      <td>NaN</td>\n      <td>NaN</td>\n      <td>Bates</td>\n      <td>1895.0</td>\n      <td>1933.0</td>\n      <td>...</td>\n      <td>2091668.0</td>\n      <td>Post Office</td>\n      <td>Aaron Post Office (historical)</td>\n      <td>Bates</td>\n      <td>38.422222</td>\n      <td>-94.154167</td>\n      <td>268.0</td>\n      <td>1.0</td>\n      <td>38.422222</td>\n      <td>-94.154167</td>\n    </tr>\n    <tr>\n      <th>3</th>\n      <td>AARON</td>\n      <td>NaN</td>\n      <td>AARON</td>\n      <td>TN</td>\n      <td>BENTON</td>\n      <td>NaN</td>\n      <td>NaN</td>\n      <td>Benton</td>\n      <td>1889.0</td>\n      <td>1890.0</td>\n      <td>...</td>\n      <td>NaN</td>\n      <td>NaN</td>\n      <td>NaN</td>\n      <td>NaN</td>\n      <td>NaN</td>\n      <td>NaN</td>\n      <td>NaN</td>\n      <td>NaN</td>\n      <td>NaN</td>\n      <td>NaN</td>\n    </tr>\n    <tr>\n      <th>4</th>\n      <td>AARON</td>\n      <td>NaN</td>\n      <td>AARON</td>\n      <td>TN</td>\n      <td>BRADLEY</td>\n      <td>NaN</td>\n      <td>NaN</td>\n      <td>Bradley</td>\n      <td>1860.0</td>\n      <td>1860.0</td>\n      <td>...</td>\n      <td>NaN</td>\n      <td>NaN</td>\n      <td>NaN</td>\n      <td>NaN</td>\n      <td>NaN</td>\n      <td>NaN</td>\n      <td>NaN</td>\n      <td>NaN</td>\n      <td>NaN</td>\n      <td>NaN</td>\n    </tr>\n    <tr>\n      <th>...</th>\n      <td>...</td>\n      <td>...</td>\n      <td>...</td>\n      <td>...</td>\n      <td>...</td>\n      <td>...</td>\n      <td>...</td>\n      <td>...</td>\n      <td>...</td>\n      <td>...</td>\n      <td>...</td>\n      <td>...</td>\n      <td>...</td>\n      <td>...</td>\n      <td>...</td>\n      <td>...</td>\n      <td>...</td>\n      <td>...</td>\n      <td>...</td>\n      <td>...</td>\n      <td>...</td>\n    </tr>\n    <tr>\n      <th>166135</th>\n      <td>TRUE</td>\n      <td>NaN</td>\n      <td>TRUE</td>\n      <td>OK</td>\n      <td>HARMON</td>\n      <td>NaN</td>\n      <td>NaN</td>\n      <td>Harmon</td>\n      <td>1901.0</td>\n      <td>1905.0</td>\n      <td>...</td>\n      <td>NaN</td>\n      <td>NaN</td>\n      <td>NaN</td>\n      <td>NaN</td>\n      <td>NaN</td>\n      <td>NaN</td>\n      <td>NaN</td>\n      <td>NaN</td>\n      <td>NaN</td>\n      <td>NaN</td>\n    </tr>\n    <tr>\n      <th>166136</th>\n      <td>TRUE</td>\n      <td>NaN</td>\n      <td>TRUE</td>\n      <td>TX</td>\n      <td>YOUNG</td>\n      <td>NaN</td>\n      <td>NaN</td>\n      <td>Young</td>\n      <td>1894.0</td>\n      <td>1912.0</td>\n      <td>...</td>\n      <td>1380679.0</td>\n      <td>Populated Place</td>\n      <td>True</td>\n      <td>Young</td>\n      <td>33.279830</td>\n      <td>-98.728670</td>\n      <td>359.0</td>\n      <td>1.0</td>\n      <td>33.279830</td>\n      <td>-98.728670</td>\n    </tr>\n    <tr>\n      <th>166137</th>\n      <td>SIERRA BLANCA</td>\n      <td>NaN</td>\n      <td>SIERRA BLANCA</td>\n      <td>TX</td>\n      <td>HUDSPETH</td>\n      <td>NaN</td>\n      <td>NaN</td>\n      <td>Hudspeth</td>\n      <td>1882.0</td>\n      <td>NaN</td>\n      <td>...</td>\n      <td>2732001.0</td>\n      <td>Post Office</td>\n      <td>Sierra Blanca Post Office</td>\n      <td>Hudspeth</td>\n      <td>31.175930</td>\n      <td>-105.360000</td>\n      <td>1380.0</td>\n      <td>1.0</td>\n      <td>31.175930</td>\n      <td>-105.360000</td>\n    </tr>\n    <tr>\n      <th>166138</th>\n      <td>GRAHAM'S MILLS</td>\n      <td>GRAHAMS MILLS</td>\n      <td>GRAHAM'S MILLS</td>\n      <td>TX</td>\n      <td>SHELBY</td>\n      <td>NaN</td>\n      <td>NaN</td>\n      <td>Shelby</td>\n      <td>1854.0</td>\n      <td>NaN</td>\n      <td>...</td>\n      <td>NaN</td>\n      <td>NaN</td>\n      <td>NaN</td>\n      <td>NaN</td>\n      <td>NaN</td>\n      <td>NaN</td>\n      <td>NaN</td>\n      <td>NaN</td>\n      <td>NaN</td>\n      <td>NaN</td>\n    </tr>\n    <tr>\n      <th>166139</th>\n      <td>CATLETT'S  CREEK</td>\n      <td>CATLETTS  CREEK</td>\n      <td>CATLETT'S  CREEK</td>\n      <td>TX</td>\n      <td>WISE</td>\n      <td>NaN</td>\n      <td>NaN</td>\n      <td>Wise</td>\n      <td>1858.0</td>\n      <td>1867.0</td>\n      <td>...</td>\n      <td>NaN</td>\n      <td>NaN</td>\n      <td>NaN</td>\n      <td>NaN</td>\n      <td>NaN</td>\n      <td>NaN</td>\n      <td>NaN</td>\n      <td>NaN</td>\n      <td>NaN</td>\n      <td>NaN</td>\n    </tr>\n  </tbody>\n</table>\n<p>166140 rows × 29 columns</p>\n</div>"
     },
     "execution_count": 5,
     "metadata": {},
     "output_type": "execute_result"
    }
   ],
   "source": [
    "df=pd.read_csv('post_offices.csv')\n",
    "df"
   ],
   "metadata": {
    "collapsed": false,
    "ExecuteTime": {
     "end_time": "2024-04-19T18:43:48.128149800Z",
     "start_time": "2024-04-19T18:43:47.639477500Z"
    }
   },
   "id": "cd92e941b9c4dc8d",
   "execution_count": 5
  },
  {
   "cell_type": "code",
   "outputs": [
    {
     "data": {
      "text/plain": "       state orig_county  established  discontinued  continuous  stamp_index  \\\n0         MS   Oktibbeha       1922.0        1932.0        True          1.0   \n1         TN      Sumner       1880.0        1914.0        True          4.0   \n2         MO       Bates       1895.0        1933.0        True          2.0   \n3         TN      Benton       1889.0        1890.0        True          5.0   \n4         TN     Bradley       1860.0        1860.0        True          9.0   \n...      ...         ...          ...           ...         ...          ...   \n166135    OK      Harmon       1901.0        1905.0        True          6.0   \n166136    TX       Young       1894.0        1912.0        True          4.0   \n166137    TX    Hudspeth       1882.0           NaN        True          0.0   \n166138    TX      Shelby       1854.0           NaN        True          0.0   \n166139    TX        Wise       1858.0        1867.0        True          7.0   \n\n            id  coordinates  duration gnis_feature_class  gnis_elev_in_m  \\\n0            2        False      10.0                NaN             NaN   \n1            3        False      34.0                NaN             NaN   \n2            4         True      38.0        Post Office           268.0   \n3            5        False       1.0                NaN             NaN   \n4            6        False       0.0                NaN             NaN   \n...        ...          ...       ...                ...             ...   \n166135  166141        False       4.0                NaN             NaN   \n166136  166142         True      18.0    Populated Place           359.0   \n166137  166143         True       NaN        Post Office          1380.0   \n166138  166144        False       NaN                NaN             NaN   \n166139  166145        False       9.0                NaN             NaN   \n\n         latitude   longitude  \n0             NaN         NaN  \n1             NaN         NaN  \n2       38.422222  -94.154167  \n3             NaN         NaN  \n4             NaN         NaN  \n...           ...         ...  \n166135        NaN         NaN  \n166136  33.279830  -98.728670  \n166137  31.175930 -105.360000  \n166138        NaN         NaN  \n166139        NaN         NaN  \n\n[166140 rows x 13 columns]",
      "text/html": "<div>\n<style scoped>\n    .dataframe tbody tr th:only-of-type {\n        vertical-align: middle;\n    }\n\n    .dataframe tbody tr th {\n        vertical-align: top;\n    }\n\n    .dataframe thead th {\n        text-align: right;\n    }\n</style>\n<table border=\"1\" class=\"dataframe\">\n  <thead>\n    <tr style=\"text-align: right;\">\n      <th></th>\n      <th>state</th>\n      <th>orig_county</th>\n      <th>established</th>\n      <th>discontinued</th>\n      <th>continuous</th>\n      <th>stamp_index</th>\n      <th>id</th>\n      <th>coordinates</th>\n      <th>duration</th>\n      <th>gnis_feature_class</th>\n      <th>gnis_elev_in_m</th>\n      <th>latitude</th>\n      <th>longitude</th>\n    </tr>\n  </thead>\n  <tbody>\n    <tr>\n      <th>0</th>\n      <td>MS</td>\n      <td>Oktibbeha</td>\n      <td>1922.0</td>\n      <td>1932.0</td>\n      <td>True</td>\n      <td>1.0</td>\n      <td>2</td>\n      <td>False</td>\n      <td>10.0</td>\n      <td>NaN</td>\n      <td>NaN</td>\n      <td>NaN</td>\n      <td>NaN</td>\n    </tr>\n    <tr>\n      <th>1</th>\n      <td>TN</td>\n      <td>Sumner</td>\n      <td>1880.0</td>\n      <td>1914.0</td>\n      <td>True</td>\n      <td>4.0</td>\n      <td>3</td>\n      <td>False</td>\n      <td>34.0</td>\n      <td>NaN</td>\n      <td>NaN</td>\n      <td>NaN</td>\n      <td>NaN</td>\n    </tr>\n    <tr>\n      <th>2</th>\n      <td>MO</td>\n      <td>Bates</td>\n      <td>1895.0</td>\n      <td>1933.0</td>\n      <td>True</td>\n      <td>2.0</td>\n      <td>4</td>\n      <td>True</td>\n      <td>38.0</td>\n      <td>Post Office</td>\n      <td>268.0</td>\n      <td>38.422222</td>\n      <td>-94.154167</td>\n    </tr>\n    <tr>\n      <th>3</th>\n      <td>TN</td>\n      <td>Benton</td>\n      <td>1889.0</td>\n      <td>1890.0</td>\n      <td>True</td>\n      <td>5.0</td>\n      <td>5</td>\n      <td>False</td>\n      <td>1.0</td>\n      <td>NaN</td>\n      <td>NaN</td>\n      <td>NaN</td>\n      <td>NaN</td>\n    </tr>\n    <tr>\n      <th>4</th>\n      <td>TN</td>\n      <td>Bradley</td>\n      <td>1860.0</td>\n      <td>1860.0</td>\n      <td>True</td>\n      <td>9.0</td>\n      <td>6</td>\n      <td>False</td>\n      <td>0.0</td>\n      <td>NaN</td>\n      <td>NaN</td>\n      <td>NaN</td>\n      <td>NaN</td>\n    </tr>\n    <tr>\n      <th>...</th>\n      <td>...</td>\n      <td>...</td>\n      <td>...</td>\n      <td>...</td>\n      <td>...</td>\n      <td>...</td>\n      <td>...</td>\n      <td>...</td>\n      <td>...</td>\n      <td>...</td>\n      <td>...</td>\n      <td>...</td>\n      <td>...</td>\n    </tr>\n    <tr>\n      <th>166135</th>\n      <td>OK</td>\n      <td>Harmon</td>\n      <td>1901.0</td>\n      <td>1905.0</td>\n      <td>True</td>\n      <td>6.0</td>\n      <td>166141</td>\n      <td>False</td>\n      <td>4.0</td>\n      <td>NaN</td>\n      <td>NaN</td>\n      <td>NaN</td>\n      <td>NaN</td>\n    </tr>\n    <tr>\n      <th>166136</th>\n      <td>TX</td>\n      <td>Young</td>\n      <td>1894.0</td>\n      <td>1912.0</td>\n      <td>True</td>\n      <td>4.0</td>\n      <td>166142</td>\n      <td>True</td>\n      <td>18.0</td>\n      <td>Populated Place</td>\n      <td>359.0</td>\n      <td>33.279830</td>\n      <td>-98.728670</td>\n    </tr>\n    <tr>\n      <th>166137</th>\n      <td>TX</td>\n      <td>Hudspeth</td>\n      <td>1882.0</td>\n      <td>NaN</td>\n      <td>True</td>\n      <td>0.0</td>\n      <td>166143</td>\n      <td>True</td>\n      <td>NaN</td>\n      <td>Post Office</td>\n      <td>1380.0</td>\n      <td>31.175930</td>\n      <td>-105.360000</td>\n    </tr>\n    <tr>\n      <th>166138</th>\n      <td>TX</td>\n      <td>Shelby</td>\n      <td>1854.0</td>\n      <td>NaN</td>\n      <td>True</td>\n      <td>0.0</td>\n      <td>166144</td>\n      <td>False</td>\n      <td>NaN</td>\n      <td>NaN</td>\n      <td>NaN</td>\n      <td>NaN</td>\n      <td>NaN</td>\n    </tr>\n    <tr>\n      <th>166139</th>\n      <td>TX</td>\n      <td>Wise</td>\n      <td>1858.0</td>\n      <td>1867.0</td>\n      <td>True</td>\n      <td>7.0</td>\n      <td>166145</td>\n      <td>False</td>\n      <td>9.0</td>\n      <td>NaN</td>\n      <td>NaN</td>\n      <td>NaN</td>\n      <td>NaN</td>\n    </tr>\n  </tbody>\n</table>\n<p>166140 rows × 13 columns</p>\n</div>"
     },
     "execution_count": 6,
     "metadata": {},
     "output_type": "execute_result"
    }
   ],
   "source": [
    "df=df.drop(columns={\n",
    "    'name',\n",
    "    'orig_name',\n",
    "    'alt_name',\n",
    "    'county1','county2','county3',\n",
    "    'gnis_match','gnis_county','gnis_state','gnis_feature_id',\n",
    "    'gnis_orig_county','gnis_orig_name','gnis_longitude','gnis_name',\n",
    "    'gnis_latitude','gnis_dist'\n",
    "})\n",
    "df\n"
   ],
   "metadata": {
    "collapsed": false,
    "ExecuteTime": {
     "end_time": "2024-04-19T18:43:48.166254600Z",
     "start_time": "2024-04-19T18:43:48.128149800Z"
    }
   },
   "id": "ba6e7d0946deee4f",
   "execution_count": 6
  },
  {
   "cell_type": "code",
   "outputs": [],
   "source": [
    "df=df.dropna()"
   ],
   "metadata": {
    "collapsed": false,
    "ExecuteTime": {
     "end_time": "2024-04-19T18:43:49.015830800Z",
     "start_time": "2024-04-19T18:43:48.983969300Z"
    }
   },
   "id": "4ad124d96efe3ab9",
   "execution_count": 7
  },
  {
   "cell_type": "code",
   "outputs": [
    {
     "data": {
      "text/plain": "       state orig_county  established  discontinued  continuous  stamp_index  \\\n2         MO       Bates       1895.0        1933.0        True          2.0   \n5         GA     Bulloch       1909.0        1920.0        True          3.0   \n7         SC    Anderson       1892.0        1899.0        True          6.0   \n11        MO   Christian       1895.0        1919.0        True          4.0   \n13        MO      Warren       1878.0        1904.0        True          5.0   \n...      ...         ...          ...           ...         ...          ...   \n166119    MT      Fergus       1915.0        1918.0        True          5.0   \n166123    OR     Wallowa       1903.0        1936.0        True          3.0   \n166131    KS      Sumner       1887.0        1906.0        True          5.0   \n166133    TX     Wheeler       1910.0        1931.0        True          2.0   \n166136    TX       Young       1894.0        1912.0        True          4.0   \n\n            id  coordinates  duration gnis_feature_class  gnis_elev_in_m  \\\n2            4         True      38.0        Post Office           268.0   \n5            7         True      11.0    Populated Place            81.0   \n7            9         True       7.0        Post Office           265.0   \n11          13         True      24.0    Populated Place           402.0   \n13          15         True      26.0        Post Office           169.0   \n...        ...          ...       ...                ...             ...   \n166119  166125         True       3.0        Post Office           952.0   \n166123  166129         True      33.0        Post Office          1398.0   \n166131  166137         True      19.0    Populated Place           375.0   \n166133  166139         True      21.0           Cemetery           817.0   \n166136  166142         True      18.0    Populated Place           359.0   \n\n         latitude   longitude  \n2       38.422222  -94.154167  \n5       32.568220  -81.992340  \n7       34.577053  -82.623466  \n11      37.038386  -92.947119  \n13      38.816667  -91.391667  \n...           ...         ...  \n166119  47.454980 -108.904900  \n166123  45.630710 -116.970200  \n166131  37.434740  -97.389210  \n166133  35.619210 -100.190700  \n166136  33.279830  -98.728670  \n\n[81848 rows x 13 columns]",
      "text/html": "<div>\n<style scoped>\n    .dataframe tbody tr th:only-of-type {\n        vertical-align: middle;\n    }\n\n    .dataframe tbody tr th {\n        vertical-align: top;\n    }\n\n    .dataframe thead th {\n        text-align: right;\n    }\n</style>\n<table border=\"1\" class=\"dataframe\">\n  <thead>\n    <tr style=\"text-align: right;\">\n      <th></th>\n      <th>state</th>\n      <th>orig_county</th>\n      <th>established</th>\n      <th>discontinued</th>\n      <th>continuous</th>\n      <th>stamp_index</th>\n      <th>id</th>\n      <th>coordinates</th>\n      <th>duration</th>\n      <th>gnis_feature_class</th>\n      <th>gnis_elev_in_m</th>\n      <th>latitude</th>\n      <th>longitude</th>\n    </tr>\n  </thead>\n  <tbody>\n    <tr>\n      <th>2</th>\n      <td>MO</td>\n      <td>Bates</td>\n      <td>1895.0</td>\n      <td>1933.0</td>\n      <td>True</td>\n      <td>2.0</td>\n      <td>4</td>\n      <td>True</td>\n      <td>38.0</td>\n      <td>Post Office</td>\n      <td>268.0</td>\n      <td>38.422222</td>\n      <td>-94.154167</td>\n    </tr>\n    <tr>\n      <th>5</th>\n      <td>GA</td>\n      <td>Bulloch</td>\n      <td>1909.0</td>\n      <td>1920.0</td>\n      <td>True</td>\n      <td>3.0</td>\n      <td>7</td>\n      <td>True</td>\n      <td>11.0</td>\n      <td>Populated Place</td>\n      <td>81.0</td>\n      <td>32.568220</td>\n      <td>-81.992340</td>\n    </tr>\n    <tr>\n      <th>7</th>\n      <td>SC</td>\n      <td>Anderson</td>\n      <td>1892.0</td>\n      <td>1899.0</td>\n      <td>True</td>\n      <td>6.0</td>\n      <td>9</td>\n      <td>True</td>\n      <td>7.0</td>\n      <td>Post Office</td>\n      <td>265.0</td>\n      <td>34.577053</td>\n      <td>-82.623466</td>\n    </tr>\n    <tr>\n      <th>11</th>\n      <td>MO</td>\n      <td>Christian</td>\n      <td>1895.0</td>\n      <td>1919.0</td>\n      <td>True</td>\n      <td>4.0</td>\n      <td>13</td>\n      <td>True</td>\n      <td>24.0</td>\n      <td>Populated Place</td>\n      <td>402.0</td>\n      <td>37.038386</td>\n      <td>-92.947119</td>\n    </tr>\n    <tr>\n      <th>13</th>\n      <td>MO</td>\n      <td>Warren</td>\n      <td>1878.0</td>\n      <td>1904.0</td>\n      <td>True</td>\n      <td>5.0</td>\n      <td>15</td>\n      <td>True</td>\n      <td>26.0</td>\n      <td>Post Office</td>\n      <td>169.0</td>\n      <td>38.816667</td>\n      <td>-91.391667</td>\n    </tr>\n    <tr>\n      <th>...</th>\n      <td>...</td>\n      <td>...</td>\n      <td>...</td>\n      <td>...</td>\n      <td>...</td>\n      <td>...</td>\n      <td>...</td>\n      <td>...</td>\n      <td>...</td>\n      <td>...</td>\n      <td>...</td>\n      <td>...</td>\n      <td>...</td>\n    </tr>\n    <tr>\n      <th>166119</th>\n      <td>MT</td>\n      <td>Fergus</td>\n      <td>1915.0</td>\n      <td>1918.0</td>\n      <td>True</td>\n      <td>5.0</td>\n      <td>166125</td>\n      <td>True</td>\n      <td>3.0</td>\n      <td>Post Office</td>\n      <td>952.0</td>\n      <td>47.454980</td>\n      <td>-108.904900</td>\n    </tr>\n    <tr>\n      <th>166123</th>\n      <td>OR</td>\n      <td>Wallowa</td>\n      <td>1903.0</td>\n      <td>1936.0</td>\n      <td>True</td>\n      <td>3.0</td>\n      <td>166129</td>\n      <td>True</td>\n      <td>33.0</td>\n      <td>Post Office</td>\n      <td>1398.0</td>\n      <td>45.630710</td>\n      <td>-116.970200</td>\n    </tr>\n    <tr>\n      <th>166131</th>\n      <td>KS</td>\n      <td>Sumner</td>\n      <td>1887.0</td>\n      <td>1906.0</td>\n      <td>True</td>\n      <td>5.0</td>\n      <td>166137</td>\n      <td>True</td>\n      <td>19.0</td>\n      <td>Populated Place</td>\n      <td>375.0</td>\n      <td>37.434740</td>\n      <td>-97.389210</td>\n    </tr>\n    <tr>\n      <th>166133</th>\n      <td>TX</td>\n      <td>Wheeler</td>\n      <td>1910.0</td>\n      <td>1931.0</td>\n      <td>True</td>\n      <td>2.0</td>\n      <td>166139</td>\n      <td>True</td>\n      <td>21.0</td>\n      <td>Cemetery</td>\n      <td>817.0</td>\n      <td>35.619210</td>\n      <td>-100.190700</td>\n    </tr>\n    <tr>\n      <th>166136</th>\n      <td>TX</td>\n      <td>Young</td>\n      <td>1894.0</td>\n      <td>1912.0</td>\n      <td>True</td>\n      <td>4.0</td>\n      <td>166142</td>\n      <td>True</td>\n      <td>18.0</td>\n      <td>Populated Place</td>\n      <td>359.0</td>\n      <td>33.279830</td>\n      <td>-98.728670</td>\n    </tr>\n  </tbody>\n</table>\n<p>81848 rows × 13 columns</p>\n</div>"
     },
     "execution_count": 8,
     "metadata": {},
     "output_type": "execute_result"
    }
   ],
   "source": [
    "def duration2(df):\n",
    "    x=int(df[0])\n",
    "    y=int(df[1])\n",
    "    z=int(df[2])\n",
    "    if len(str(x))<4:\n",
    "        return False\n",
    "    if len(str(y))>4:\n",
    "        return False\n",
    "    if z<=0:\n",
    "        return False\n",
    "    return True\n",
    "\n",
    "df=df[df[['established','discontinued','duration']].apply(lambda x:duration2(x),axis=1)]\n",
    "df\n",
    "    "
   ],
   "metadata": {
    "collapsed": false,
    "ExecuteTime": {
     "end_time": "2024-04-19T18:43:51.057085700Z",
     "start_time": "2024-04-19T18:43:49.510609300Z"
    }
   },
   "id": "36e926d0e3ea1efb",
   "execution_count": 8
  },
  {
   "cell_type": "code",
   "outputs": [],
   "source": [
    "df.to_csv('postal.csv',index=False)"
   ],
   "metadata": {
    "collapsed": false,
    "ExecuteTime": {
     "end_time": "2024-04-19T18:43:51.348600400Z",
     "start_time": "2024-04-19T18:43:51.057085700Z"
    }
   },
   "id": "3f6185b216197e2f",
   "execution_count": 9
  },
  {
   "cell_type": "code",
   "outputs": [],
   "source": [],
   "metadata": {
    "collapsed": false
   },
   "id": "ee518d17438cd016"
  }
 ],
 "metadata": {
  "kernelspec": {
   "display_name": "Python 3",
   "language": "python",
   "name": "python3"
  },
  "language_info": {
   "codemirror_mode": {
    "name": "ipython",
    "version": 2
   },
   "file_extension": ".py",
   "mimetype": "text/x-python",
   "name": "python",
   "nbconvert_exporter": "python",
   "pygments_lexer": "ipython2",
   "version": "2.7.6"
  }
 },
 "nbformat": 4,
 "nbformat_minor": 5
}
